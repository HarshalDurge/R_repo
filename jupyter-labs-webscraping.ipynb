{
 "cells": [
  {
   "cell_type": "markdown",
   "metadata": {},
   "source": [
    "<p style=\"text-align:center\">\n",
    "    <a href=\"https://skills.network\" target=\"_blank\">\n",
    "    <img src=\"https://cf-courses-data.s3.us.cloud-object-storage.appdomain.cloud/assets/logos/SN_web_lightmode.png\" width=\"200\" alt=\"Skills Network Logo\">\n",
    "    </a>\n",
    "</p>\n"
   ]
  },
  {
   "cell_type": "markdown",
   "metadata": {},
   "source": [
    "# **Space X  Falcon 9 First Stage Landing Prediction**\n"
   ]
  },
  {
   "cell_type": "markdown",
   "metadata": {},
   "source": [
    "## Web scraping Falcon 9 and Falcon Heavy Launches Records from Wikipedia\n"
   ]
  },
  {
   "cell_type": "markdown",
   "metadata": {},
   "source": [
    "Estimated time needed: **40** minutes\n"
   ]
  },
  {
   "cell_type": "markdown",
   "metadata": {},
   "source": [
    "In this lab, you will be performing web scraping to collect Falcon 9 historical launch records from a Wikipedia page titled `List of Falcon 9 and Falcon Heavy launches`\n",
    "\n",
    "https://en.wikipedia.org/wiki/List_of_Falcon_9_and_Falcon_Heavy_launches\n"
   ]
  },
  {
   "cell_type": "markdown",
   "metadata": {},
   "source": [
    "![](https://cf-courses-data.s3.us.cloud-object-storage.appdomain.cloud/IBM-DS0321EN-SkillsNetwork/labs/module_1_L2/images/Falcon9_rocket_family.svg)\n"
   ]
  },
  {
   "cell_type": "markdown",
   "metadata": {},
   "source": [
    "Falcon 9 first stage will land successfully\n"
   ]
  },
  {
   "cell_type": "markdown",
   "metadata": {},
   "source": [
    "![](https://cf-courses-data.s3.us.cloud-object-storage.appdomain.cloud/IBMDeveloperSkillsNetwork-DS0701EN-SkillsNetwork/api/Images/landing_1.gif)\n"
   ]
  },
  {
   "cell_type": "markdown",
   "metadata": {},
   "source": [
    "Several examples of an unsuccessful landing are shown here:\n"
   ]
  },
  {
   "cell_type": "markdown",
   "metadata": {},
   "source": [
    "![](https://cf-courses-data.s3.us.cloud-object-storage.appdomain.cloud/IBMDeveloperSkillsNetwork-DS0701EN-SkillsNetwork/api/Images/crash.gif)\n"
   ]
  },
  {
   "cell_type": "markdown",
   "metadata": {},
   "source": [
    "More specifically, the launch records are stored in a HTML table shown below:\n"
   ]
  },
  {
   "cell_type": "markdown",
   "metadata": {},
   "source": [
    "![](https://cf-courses-data.s3.us.cloud-object-storage.appdomain.cloud/IBM-DS0321EN-SkillsNetwork/labs/module_1_L2/images/falcon9-launches-wiki.png)\n"
   ]
  },
  {
   "cell_type": "markdown",
   "metadata": {},
   "source": [
    "  ## Objectives\n",
    "Web scrap Falcon 9 launch records with `BeautifulSoup`: \n",
    "- Extract a Falcon 9 launch records HTML table from Wikipedia\n",
    "- Parse the table and convert it into a Pandas data frame\n"
   ]
  },
  {
   "cell_type": "markdown",
   "metadata": {},
   "source": [
    "First let's import required packages for this lab\n"
   ]
  },
  {
   "cell_type": "code",
   "execution_count": 1,
   "metadata": {
    "tags": []
   },
   "outputs": [
    {
     "name": "stdout",
     "output_type": "stream",
     "text": [
      "Requirement already satisfied: beautifulsoup4 in /home/jupyterlab/conda/envs/python/lib/python3.7/site-packages (4.11.1)\n",
      "Requirement already satisfied: soupsieve>1.2 in /home/jupyterlab/conda/envs/python/lib/python3.7/site-packages (from beautifulsoup4) (2.3.2.post1)\n",
      "Requirement already satisfied: requests in /home/jupyterlab/conda/envs/python/lib/python3.7/site-packages (2.29.0)\n",
      "Requirement already satisfied: charset-normalizer<4,>=2 in /home/jupyterlab/conda/envs/python/lib/python3.7/site-packages (from requests) (3.1.0)\n",
      "Requirement already satisfied: idna<4,>=2.5 in /home/jupyterlab/conda/envs/python/lib/python3.7/site-packages (from requests) (3.4)\n",
      "Requirement already satisfied: urllib3<1.27,>=1.21.1 in /home/jupyterlab/conda/envs/python/lib/python3.7/site-packages (from requests) (1.26.15)\n",
      "Requirement already satisfied: certifi>=2017.4.17 in /home/jupyterlab/conda/envs/python/lib/python3.7/site-packages (from requests) (2023.5.7)\n"
     ]
    }
   ],
   "source": [
    "!pip3 install beautifulsoup4\n",
    "!pip3 install requests"
   ]
  },
  {
   "cell_type": "code",
   "execution_count": 2,
   "metadata": {
    "tags": []
   },
   "outputs": [],
   "source": [
    "import sys\n",
    "\n",
    "import requests\n",
    "from bs4 import BeautifulSoup\n",
    "import re\n",
    "import unicodedata\n",
    "import pandas as pd"
   ]
  },
  {
   "cell_type": "markdown",
   "metadata": {},
   "source": [
    "and we will provide some helper functions for you to process web scraped HTML table\n"
   ]
  },
  {
   "cell_type": "code",
   "execution_count": 3,
   "metadata": {
    "tags": []
   },
   "outputs": [],
   "source": [
    "def date_time(table_cells):\n",
    "    \"\"\"\n",
    "    This function returns the data and time from the HTML  table cell\n",
    "    Input: the  element of a table data cell extracts extra row\n",
    "    \"\"\"\n",
    "    return [data_time.strip() for data_time in list(table_cells.strings)][0:2]\n",
    "\n",
    "def booster_version(table_cells):\n",
    "    \"\"\"\n",
    "    This function returns the booster version from the HTML  table cell \n",
    "    Input: the  element of a table data cell extracts extra row\n",
    "    \"\"\"\n",
    "    out=''.join([booster_version for i,booster_version in enumerate( table_cells.strings) if i%2==0][0:-1])\n",
    "    return out\n",
    "\n",
    "def landing_status(table_cells):\n",
    "    \"\"\"\n",
    "    This function returns the landing status from the HTML table cell \n",
    "    Input: the  element of a table data cell extracts extra row\n",
    "    \"\"\"\n",
    "    out=[i for i in table_cells.strings][0]\n",
    "    return out\n",
    "\n",
    "\n",
    "def get_mass(table_cells):\n",
    "    mass=unicodedata.normalize(\"NFKD\", table_cells.text).strip()\n",
    "    if mass:\n",
    "        mass.find(\"kg\")\n",
    "        new_mass=mass[0:mass.find(\"kg\")+2]\n",
    "    else:\n",
    "        new_mass=0\n",
    "    return new_mass\n",
    "\n",
    "\n",
    "def extract_column_from_header(row):\n",
    "    \"\"\"\n",
    "    This function returns the landing status from the HTML table cell \n",
    "    Input: the  element of a table data cell extracts extra row\n",
    "    \"\"\"\n",
    "    if (row.br):\n",
    "        row.br.extract()\n",
    "    if row.a:\n",
    "        row.a.extract()\n",
    "    if row.sup:\n",
    "        row.sup.extract()\n",
    "        \n",
    "    colunm_name = ' '.join(row.contents)\n",
    "    \n",
    "    # Filter the digit and empty names\n",
    "    if not(colunm_name.strip().isdigit()):\n",
    "        colunm_name = colunm_name.strip()\n",
    "        return colunm_name    \n"
   ]
  },
  {
   "cell_type": "markdown",
   "metadata": {},
   "source": [
    "To keep the lab tasks consistent, you will be asked to scrape the data from a snapshot of the  `List of Falcon 9 and Falcon Heavy launches` Wikipage updated on\n",
    "`9th June 2021`\n"
   ]
  },
  {
   "cell_type": "code",
   "execution_count": 4,
   "metadata": {
    "tags": []
   },
   "outputs": [],
   "source": [
    "static_url = \"https://en.wikipedia.org/w/index.php?title=List_of_Falcon_9_and_Falcon_Heavy_launches&oldid=1027686922\""
   ]
  },
  {
   "cell_type": "markdown",
   "metadata": {},
   "source": [
    "Next, request the HTML page from the above URL and get a `response` object\n"
   ]
  },
  {
   "cell_type": "markdown",
   "metadata": {},
   "source": [
    "### TASK 1: Request the Falcon9 Launch Wiki page from its URL\n"
   ]
  },
  {
   "cell_type": "markdown",
   "metadata": {},
   "source": [
    "First, let's perform an HTTP GET method to request the Falcon9 Launch HTML page, as an HTTP response.\n"
   ]
  },
  {
   "cell_type": "code",
   "execution_count": 5,
   "metadata": {
    "tags": []
   },
   "outputs": [],
   "source": [
    "# use requests.get() method with the provided static_url\n",
    "# assign the response to a object"
   ]
  },
  {
   "cell_type": "markdown",
   "metadata": {},
   "source": [
    "Create a `BeautifulSoup` object from the HTML `response`\n"
   ]
  },
  {
   "cell_type": "code",
   "execution_count": 6,
   "metadata": {
    "tags": []
   },
   "outputs": [],
   "source": [
    "# Use BeautifulSoup() to create a BeautifulSoup object from a response text content"
   ]
  },
  {
   "cell_type": "markdown",
   "metadata": {},
   "source": [
    "Print the page title to verify if the `BeautifulSoup` object was created properly \n"
   ]
  },
  {
   "cell_type": "code",
   "execution_count": 7,
   "metadata": {
    "tags": []
   },
   "outputs": [],
   "source": [
    "# Use soup.title attribute"
   ]
  },
  {
   "cell_type": "markdown",
   "metadata": {},
   "source": [
    "### TASK 2: Extract all column/variable names from the HTML table header\n"
   ]
  },
  {
   "cell_type": "markdown",
   "metadata": {},
   "source": [
    "Next, we want to collect all relevant column names from the HTML table header\n"
   ]
  },
  {
   "cell_type": "markdown",
   "metadata": {},
   "source": [
    "Let's try to find all tables on the wiki page first. If you need to refresh your memory about `BeautifulSoup`, please check the external reference link towards the end of this lab\n"
   ]
  },
  {
   "cell_type": "code",
   "execution_count": 8,
   "metadata": {
    "tags": []
   },
   "outputs": [],
   "source": [
    "# Use the find_all function in the BeautifulSoup object, with element type `table`\n",
    "# Assign the result to a list called `html_tables`\n"
   ]
  },
  {
   "cell_type": "markdown",
   "metadata": {},
   "source": [
    "Starting from the third table is our target table contains the actual launch records.\n"
   ]
  },
  {
   "cell_type": "code",
   "execution_count": 9,
   "metadata": {
    "tags": []
   },
   "outputs": [
    {
     "ename": "NameError",
     "evalue": "name 'html_tables' is not defined",
     "output_type": "error",
     "traceback": [
      "\u001b[0;31m---------------------------------------------------------------------------\u001b[0m",
      "\u001b[0;31mNameError\u001b[0m                                 Traceback (most recent call last)",
      "\u001b[0;32m/tmp/ipykernel_76/1062754519.py\u001b[0m in \u001b[0;36m<module>\u001b[0;34m\u001b[0m\n\u001b[1;32m      1\u001b[0m \u001b[0;31m# Let's print the third table and check its content\u001b[0m\u001b[0;34m\u001b[0m\u001b[0;34m\u001b[0m\u001b[0;34m\u001b[0m\u001b[0m\n\u001b[0;32m----> 2\u001b[0;31m \u001b[0mfirst_launch_table\u001b[0m \u001b[0;34m=\u001b[0m \u001b[0mhtml_tables\u001b[0m\u001b[0;34m[\u001b[0m\u001b[0;36m2\u001b[0m\u001b[0;34m]\u001b[0m\u001b[0;34m\u001b[0m\u001b[0;34m\u001b[0m\u001b[0m\n\u001b[0m\u001b[1;32m      3\u001b[0m \u001b[0mprint\u001b[0m\u001b[0;34m(\u001b[0m\u001b[0mfirst_launch_table\u001b[0m\u001b[0;34m)\u001b[0m\u001b[0;34m\u001b[0m\u001b[0;34m\u001b[0m\u001b[0m\n",
      "\u001b[0;31mNameError\u001b[0m: name 'html_tables' is not defined"
     ]
    }
   ],
   "source": [
    "# Let's print the third table and check its content\n",
    "first_launch_table = html_tables[2]\n",
    "print(first_launch_table)"
   ]
  },
  {
   "cell_type": "markdown",
   "metadata": {},
   "source": [
    "You should able to see the columns names embedded in the table header elements `<th>` as follows:\n"
   ]
  },
  {
   "cell_type": "markdown",
   "metadata": {},
   "source": [
    "```\n",
    "<tr>\n",
    "<th scope=\"col\">Flight No.\n",
    "</th>\n",
    "<th scope=\"col\">Date and<br/>time (<a href=\"/wiki/Coordinated_Universal_Time\" title=\"Coordinated Universal Time\">UTC</a>)\n",
    "</th>\n",
    "<th scope=\"col\"><a href=\"/wiki/List_of_Falcon_9_first-stage_boosters\" title=\"List of Falcon 9 first-stage boosters\">Version,<br/>Booster</a> <sup class=\"reference\" id=\"cite_ref-booster_11-0\"><a href=\"#cite_note-booster-11\">[b]</a></sup>\n",
    "</th>\n",
    "<th scope=\"col\">Launch site\n",
    "</th>\n",
    "<th scope=\"col\">Payload<sup class=\"reference\" id=\"cite_ref-Dragon_12-0\"><a href=\"#cite_note-Dragon-12\">[c]</a></sup>\n",
    "</th>\n",
    "<th scope=\"col\">Payload mass\n",
    "</th>\n",
    "<th scope=\"col\">Orbit\n",
    "</th>\n",
    "<th scope=\"col\">Customer\n",
    "</th>\n",
    "<th scope=\"col\">Launch<br/>outcome\n",
    "</th>\n",
    "<th scope=\"col\"><a href=\"/wiki/Falcon_9_first-stage_landing_tests\" title=\"Falcon 9 first-stage landing tests\">Booster<br/>landing</a>\n",
    "</th></tr>\n",
    "```\n"
   ]
  },
  {
   "cell_type": "markdown",
   "metadata": {},
   "source": [
    "Next, we just need to iterate through the `<th>` elements and apply the provided `extract_column_from_header()` to extract column name one by one\n"
   ]
  },
  {
   "cell_type": "code",
   "execution_count": 10,
   "metadata": {
    "tags": []
   },
   "outputs": [],
   "source": [
    "column_names = []\n",
    "\n",
    "# Apply find_all() function with `th` element on first_launch_table\n",
    "# Iterate each th element and apply the provided extract_column_from_header() to get a column name\n",
    "# Append the Non-empty column name (`if name is not None and len(name) > 0`) into a list called column_names\n"
   ]
  },
  {
   "cell_type": "markdown",
   "metadata": {},
   "source": [
    "Check the extracted column names\n"
   ]
  },
  {
   "cell_type": "code",
   "execution_count": 11,
   "metadata": {
    "tags": []
   },
   "outputs": [
    {
     "name": "stdout",
     "output_type": "stream",
     "text": [
      "[]\n"
     ]
    }
   ],
   "source": [
    "print(column_names)"
   ]
  },
  {
   "cell_type": "markdown",
   "metadata": {},
   "source": [
    "## TASK 3: Create a data frame by parsing the launch HTML tables\n"
   ]
  },
  {
   "cell_type": "markdown",
   "metadata": {},
   "source": [
    "We will create an empty dictionary with keys from the extracted column names in the previous task. Later, this dictionary will be converted into a Pandas dataframe\n"
   ]
  },
  {
   "cell_type": "code",
   "execution_count": 12,
   "metadata": {
    "tags": []
   },
   "outputs": [
    {
     "ename": "KeyError",
     "evalue": "'Date and time ( )'",
     "output_type": "error",
     "traceback": [
      "\u001b[0;31m---------------------------------------------------------------------------\u001b[0m",
      "\u001b[0;31mKeyError\u001b[0m                                  Traceback (most recent call last)",
      "\u001b[0;32m/tmp/ipykernel_76/1229833708.py\u001b[0m in \u001b[0;36m<module>\u001b[0;34m\u001b[0m\n\u001b[1;32m      2\u001b[0m \u001b[0;34m\u001b[0m\u001b[0m\n\u001b[1;32m      3\u001b[0m \u001b[0;31m# Remove an irrelvant column\u001b[0m\u001b[0;34m\u001b[0m\u001b[0;34m\u001b[0m\u001b[0;34m\u001b[0m\u001b[0m\n\u001b[0;32m----> 4\u001b[0;31m \u001b[0;32mdel\u001b[0m \u001b[0mlaunch_dict\u001b[0m\u001b[0;34m[\u001b[0m\u001b[0;34m'Date and time ( )'\u001b[0m\u001b[0;34m]\u001b[0m\u001b[0;34m\u001b[0m\u001b[0;34m\u001b[0m\u001b[0m\n\u001b[0m\u001b[1;32m      5\u001b[0m \u001b[0;34m\u001b[0m\u001b[0m\n\u001b[1;32m      6\u001b[0m \u001b[0;31m# Let's initial the launch_dict with each value to be an empty list\u001b[0m\u001b[0;34m\u001b[0m\u001b[0;34m\u001b[0m\u001b[0;34m\u001b[0m\u001b[0m\n",
      "\u001b[0;31mKeyError\u001b[0m: 'Date and time ( )'"
     ]
    }
   ],
   "source": [
    "launch_dict= dict.fromkeys(column_names)\n",
    "\n",
    "# Remove an irrelvant column\n",
    "del launch_dict['Date and time ( )']\n",
    "\n",
    "# Let's initial the launch_dict with each value to be an empty list\n",
    "launch_dict['Flight No.'] = []\n",
    "launch_dict['Launch site'] = []\n",
    "launch_dict['Payload'] = []\n",
    "launch_dict['Payload mass'] = []\n",
    "launch_dict['Orbit'] = []\n",
    "launch_dict['Customer'] = []\n",
    "launch_dict['Launch outcome'] = []\n",
    "# Added some new columns\n",
    "launch_dict['Version Booster']=[]\n",
    "launch_dict['Booster landing']=[]\n",
    "launch_dict['Date']=[]\n",
    "launch_dict['Time']=[]"
   ]
  },
  {
   "cell_type": "markdown",
   "metadata": {},
   "source": [
    "Next, we just need to fill up the `launch_dict` with launch records extracted from table rows.\n"
   ]
  },
  {
   "cell_type": "markdown",
   "metadata": {},
   "source": [
    "Usually, HTML tables in Wiki pages are likely to contain unexpected annotations and other types of noises, such as reference links `B0004.1[8]`, missing values `N/A [e]`, inconsistent formatting, etc.\n"
   ]
  },
  {
   "cell_type": "markdown",
   "metadata": {},
   "source": [
    "To simplify the parsing process, we have provided an incomplete code snippet below to help you to fill up the `launch_dict`. Please complete the following code snippet with TODOs or you can choose to write your own logic to parse all launch tables:\n"
   ]
  },
  {
   "cell_type": "code",
   "execution_count": 13,
   "metadata": {
    "tags": []
   },
   "outputs": [
    {
     "ename": "NameError",
     "evalue": "name 'soup' is not defined",
     "output_type": "error",
     "traceback": [
      "\u001b[0;31m---------------------------------------------------------------------------\u001b[0m",
      "\u001b[0;31mNameError\u001b[0m                                 Traceback (most recent call last)",
      "\u001b[0;32m/tmp/ipykernel_76/354354048.py\u001b[0m in \u001b[0;36m<module>\u001b[0;34m\u001b[0m\n\u001b[1;32m      1\u001b[0m \u001b[0mextracted_row\u001b[0m \u001b[0;34m=\u001b[0m \u001b[0;36m0\u001b[0m\u001b[0;34m\u001b[0m\u001b[0;34m\u001b[0m\u001b[0m\n\u001b[1;32m      2\u001b[0m \u001b[0;31m#Extract each table\u001b[0m\u001b[0;34m\u001b[0m\u001b[0;34m\u001b[0m\u001b[0;34m\u001b[0m\u001b[0m\n\u001b[0;32m----> 3\u001b[0;31m \u001b[0;32mfor\u001b[0m \u001b[0mtable_number\u001b[0m\u001b[0;34m,\u001b[0m\u001b[0mtable\u001b[0m \u001b[0;32min\u001b[0m \u001b[0menumerate\u001b[0m\u001b[0;34m(\u001b[0m\u001b[0msoup\u001b[0m\u001b[0;34m.\u001b[0m\u001b[0mfind_all\u001b[0m\u001b[0;34m(\u001b[0m\u001b[0;34m'table'\u001b[0m\u001b[0;34m,\u001b[0m\u001b[0;34m\"wikitable plainrowheaders collapsible\"\u001b[0m\u001b[0;34m)\u001b[0m\u001b[0;34m)\u001b[0m\u001b[0;34m:\u001b[0m\u001b[0;34m\u001b[0m\u001b[0;34m\u001b[0m\u001b[0m\n\u001b[0m\u001b[1;32m      4\u001b[0m    \u001b[0;31m# get table row\u001b[0m\u001b[0;34m\u001b[0m\u001b[0;34m\u001b[0m\u001b[0;34m\u001b[0m\u001b[0m\n\u001b[1;32m      5\u001b[0m     \u001b[0;32mfor\u001b[0m \u001b[0mrows\u001b[0m \u001b[0;32min\u001b[0m \u001b[0mtable\u001b[0m\u001b[0;34m.\u001b[0m\u001b[0mfind_all\u001b[0m\u001b[0;34m(\u001b[0m\u001b[0;34m\"tr\"\u001b[0m\u001b[0;34m)\u001b[0m\u001b[0;34m:\u001b[0m\u001b[0;34m\u001b[0m\u001b[0;34m\u001b[0m\u001b[0m\n",
      "\u001b[0;31mNameError\u001b[0m: name 'soup' is not defined"
     ]
    }
   ],
   "source": [
    "extracted_row = 0\n",
    "#Extract each table \n",
    "for table_number,table in enumerate(soup.find_all('table',\"wikitable plainrowheaders collapsible\")):\n",
    "   # get table row \n",
    "    for rows in table.find_all(\"tr\"):\n",
    "        #check to see if first table heading is as number corresponding to launch a number \n",
    "        if rows.th:\n",
    "            if rows.th.string:\n",
    "                flight_number=rows.th.string.strip()\n",
    "                flag=flight_number.isdigit()\n",
    "        else:\n",
    "            flag=False\n",
    "        #get table element \n",
    "        row=rows.find_all('td')\n",
    "        #if it is number save cells in a dictonary \n",
    "        if flag:\n",
    "            extracted_row += 1\n",
    "            # Flight Number value\n",
    "            # TODO: Append the flight_number into launch_dict with key `Flight No.`\n",
    "            #print(flight_number)\n",
    "            datatimelist=date_time(row[0])\n",
    "            \n",
    "            # Date value\n",
    "            # TODO: Append the date into launch_dict with key `Date`\n",
    "            date = datatimelist[0].strip(',')\n",
    "            #print(date)\n",
    "            \n",
    "            # Time value\n",
    "            # TODO: Append the time into launch_dict with key `Time`\n",
    "            time = datatimelist[1]\n",
    "            #print(time)\n",
    "              \n",
    "            # Booster version\n",
    "            # TODO: Append the bv into launch_dict with key `Version Booster`\n",
    "            bv=booster_version(row[1])\n",
    "            if not(bv):\n",
    "                bv=row[1].a.string\n",
    "            print(bv)\n",
    "            \n",
    "            # Launch Site\n",
    "            # TODO: Append the bv into launch_dict with key `Launch Site`\n",
    "            launch_site = row[2].a.string\n",
    "            #print(launch_site)\n",
    "            \n",
    "            # Payload\n",
    "            # TODO: Append the payload into launch_dict with key `Payload`\n",
    "            payload = row[3].a.string\n",
    "            #print(payload)\n",
    "            \n",
    "            # Payload Mass\n",
    "            # TODO: Append the payload_mass into launch_dict with key `Payload mass`\n",
    "            payload_mass = get_mass(row[4])\n",
    "            #print(payload)\n",
    "            \n",
    "            # Orbit\n",
    "            # TODO: Append the orbit into launch_dict with key `Orbit`\n",
    "            orbit = row[5].a.string\n",
    "            #print(orbit)\n",
    "            \n",
    "            # Customer\n",
    "            # TODO: Append the customer into launch_dict with key `Customer`\n",
    "            customer = row[6].a.string\n",
    "            #print(customer)\n",
    "            \n",
    "            # Launch outcome\n",
    "            # TODO: Append the launch_outcome into launch_dict with key `Launch outcome`\n",
    "            launch_outcome = list(row[7].strings)[0]\n",
    "            #print(launch_outcome)\n",
    "            \n",
    "            # Booster landing\n",
    "            # TODO: Append the launch_outcome into launch_dict with key `Booster landing`\n",
    "            booster_landing = landing_status(row[8])\n",
    "            #print(booster_landing)\n",
    "            "
   ]
  },
  {
   "cell_type": "markdown",
   "metadata": {},
   "source": [
    "After you have fill in the parsed launch record values into `launch_dict`, you can create a dataframe from it.\n"
   ]
  },
  {
   "cell_type": "code",
   "execution_count": 14,
   "metadata": {
    "tags": []
   },
   "outputs": [],
   "source": [
    "df= pd.DataFrame({ key:pd.Series(value) for key, value in launch_dict.items() })"
   ]
  },
  {
   "cell_type": "markdown",
   "metadata": {},
   "source": [
    "We can now export it to a <b>CSV</b> for the next section, but to make the answers consistent and in case you have difficulties finishing this lab. \n",
    "\n",
    "Following labs will be using a provided dataset to make each lab independent. \n"
   ]
  },
  {
   "cell_type": "markdown",
   "metadata": {},
   "source": [
    "<code>df.to_csv('spacex_web_scraped.csv', index=False)</code>\n"
   ]
  },
  {
   "cell_type": "markdown",
   "metadata": {},
   "source": [
    "## Authors\n"
   ]
  },
  {
   "cell_type": "markdown",
   "metadata": {},
   "source": [
    "<a href=\"https://www.linkedin.com/in/yan-luo-96288783/\">Yan Luo</a>\n"
   ]
  },
  {
   "cell_type": "markdown",
   "metadata": {},
   "source": [
    "<a href=\"https://www.linkedin.com/in/nayefaboutayoun/\">Nayef Abou Tayoun</a>\n"
   ]
  },
  {
   "cell_type": "markdown",
   "metadata": {},
   "source": [
    "<!--\n",
    "## Change Log\n",
    "-->\n"
   ]
  },
  {
   "cell_type": "markdown",
   "metadata": {},
   "source": [
    "<!--\n",
    "| Date (YYYY-MM-DD) | Version | Changed By | Change Description      |\n",
    "| ----------------- | ------- | ---------- | ----------------------- |\n",
    "| 2021-06-09        | 1.0     | Yan Luo    | Tasks updates           |\n",
    "| 2020-11-10        | 1.0     | Nayef      | Created the initial version |\n",
    "-->\n"
   ]
  },
  {
   "cell_type": "markdown",
   "metadata": {},
   "source": [
    "Copyright © 2021 IBM Corporation. All rights reserved.\n"
   ]
  },
  {
   "cell_type": "code",
   "execution_count": 15,
   "metadata": {
    "tags": []
   },
   "outputs": [
    {
     "name": "stdout",
     "output_type": "stream",
     "text": [
      "2006\n"
     ]
    }
   ],
   "source": [
    "import requests\n",
    "import pandas as pd\n",
    "\n",
    "# Step 1: Perform GET request on the SpaceX API\n",
    "url = 'https://api.spacexdata.com/v4/launches'\n",
    "response = requests.get(url)\n",
    "\n",
    "# Step 2: Convert response to DataFrame\n",
    "data = pd.json_normalize(response.json())\n",
    "\n",
    "# Step 3: Extract the first row's year from the 'static_fire_date_utc' column\n",
    "first_row_date = data.loc[0, 'static_fire_date_utc']\n",
    "year = pd.to_datetime(first_row_date).year\n",
    "\n",
    "print(year)\n"
   ]
  },
  {
   "cell_type": "code",
   "execution_count": 17,
   "metadata": {
    "tags": []
   },
   "outputs": [
    {
     "name": "stdout",
     "output_type": "stream",
     "text": [
      "Index(['static_fire_date_utc', 'static_fire_date_unix', 'net', 'window',\n",
      "       'rocket', 'success', 'failures', 'details', 'crew', 'ships', 'capsules',\n",
      "       'payloads', 'launchpad', 'flight_number', 'name', 'date_utc',\n",
      "       'date_unix', 'date_local', 'date_precision', 'upcoming', 'cores',\n",
      "       'auto_update', 'tbd', 'launch_library_id', 'id', 'fairings.reused',\n",
      "       'fairings.recovery_attempt', 'fairings.recovered', 'fairings.ships',\n",
      "       'links.patch.small', 'links.patch.large', 'links.reddit.campaign',\n",
      "       'links.reddit.launch', 'links.reddit.media', 'links.reddit.recovery',\n",
      "       'links.flickr.small', 'links.flickr.original', 'links.presskit',\n",
      "       'links.webcast', 'links.youtube_id', 'links.article', 'links.wikipedia',\n",
      "       'fairings'],\n",
      "      dtype='object')\n"
     ]
    }
   ],
   "source": [
    "import requests\n",
    "import pandas as pd\n",
    "\n",
    "# Step 1: Perform a GET request to the SpaceX API\n",
    "url = 'https://api.spacexdata.com/v4/launches'\n",
    "response = requests.get(url)\n",
    "\n",
    "# Step 2: Convert the response to a DataFrame\n",
    "data = pd.json_normalize(response.json())\n",
    "\n",
    "# Step 3: Inspect the columns to find the right one for rocket name\n",
    "print(data.columns)\n",
    "\n",
    "# Step 4: Once you find the correct column name for the rocket, update the filter\n",
    "# Example: Assume 'rocket' is the column that contains rocket IDs\n",
    "# You'll need to look up Falcon 9 rocket ID to filter accordingly\n"
   ]
  },
  {
   "cell_type": "code",
   "execution_count": 25,
   "metadata": {
    "tags": []
   },
   "outputs": [
    {
     "name": "stdout",
     "output_type": "stream",
     "text": [
      "Total number of launches: 205\n",
      "Falcon 9 ID: 5e9d0d95eda69973a809d1ec\n",
      "Falcon 1 ID: 5e9d0d95eda69955f709d1eb\n",
      "Number of Falcon 9 launches: 195\n"
     ]
    }
   ],
   "source": [
    "import requests\n",
    "import pandas as pd\n",
    "\n",
    "# Step 1: Perform a GET request to the SpaceX API to get launch data\n",
    "launches_url = 'https://api.spacexdata.com/v4/launches'\n",
    "launches_response = requests.get(launches_url)\n",
    "launches_data = pd.json_normalize(launches_response.json())\n",
    "\n",
    "# Print total number of launches\n",
    "print(f\"Total number of launches: {launches_data.shape[0]}\")\n",
    "\n",
    "# Step 2: Get the list of rockets to find the Falcon 9 and Falcon 1 rocket IDs\n",
    "rockets_url = 'https://api.spacexdata.com/v4/rockets'\n",
    "rockets_response = requests.get(rockets_url)\n",
    "rockets_data = pd.json_normalize(rockets_response.json())\n",
    "\n",
    "# Step 3: Find the IDs for Falcon 9 and Falcon 1\n",
    "falcon9_id = rockets_data[rockets_data['name'] == 'Falcon 9']['id'].values[0]\n",
    "falcon1_id = rockets_data[rockets_data['name'] == 'Falcon 1']['id'].values[0]\n",
    "\n",
    "print(f\"Falcon 9 ID: {falcon9_id}\")\n",
    "print(f\"Falcon 1 ID: {falcon1_id}\")\n",
    "\n",
    "# Step 4: Filter the launches to include only Falcon 9 launches\n",
    "falcon9_launches = launches_data[launches_data['rocket'] == falcon9_id]\n",
    "\n",
    "# Step 5: Count the number of Falcon 9 launches\n",
    "count_falcon9 = falcon9_launches.shape[0]\n",
    "\n",
    "# Print the count of Falcon 9 launches\n",
    "print(f\"Number of Falcon 9 launches: {count_falcon9}\")\n",
    "\n",
    "# Optional: If you want to see the Falcon 9 launches themselves\n",
    "# print(falcon9_launches[['name', 'date_utc']])\n"
   ]
  },
  {
   "cell_type": "code",
   "execution_count": 29,
   "metadata": {
    "tags": []
   },
   "outputs": [
    {
     "name": "stdout",
     "output_type": "stream",
     "text": [
      "Table 0:\n",
      "                                                   0  \\\n",
      "0  Rocket configurations 5 10 15 20 25 30 '10 '11...   \n",
      "\n",
      "                                                   1  \n",
      "0  Launch sites 5 10 15 20 25 30 '10 '11 '12 '13 ...  \n",
      "Table 1:\n",
      "                                                   0  \\\n",
      "0  Launch outcomes 10 20 30 40 50 '10 '11 '12 '13...   \n",
      "\n",
      "                                                   1  \n",
      "0  Booster landings 5 10 15 20 25 30 '10 '11 '12 ...  \n",
      "Table 2:\n",
      "   Flight No.                                 Date andtime (UTC)  \\\n",
      "0           1                                  4 June 2010,18:45   \n",
      "1           1  First flight of Falcon 9 v1.0.[11] Used a boil...   \n",
      "2           2                          8 December 2010,15:43[13]   \n",
      "3           2  Maiden flight of Dragon capsule, consisting of...   \n",
      "4           3                              22 May 2012,07:44[17]   \n",
      "\n",
      "                                 Version,Booster [b]  \\\n",
      "0                               F9 v1.0[7]B0003.1[8]   \n",
      "1  First flight of Falcon 9 v1.0.[11] Used a boil...   \n",
      "2                               F9 v1.0[7]B0004.1[8]   \n",
      "3  Maiden flight of Dragon capsule, consisting of...   \n",
      "4                               F9 v1.0[7]B0005.1[8]   \n",
      "\n",
      "                                         Launch site  \\\n",
      "0                                       CCAFS,SLC-40   \n",
      "1  First flight of Falcon 9 v1.0.[11] Used a boil...   \n",
      "2                                       CCAFS,SLC-40   \n",
      "3  Maiden flight of Dragon capsule, consisting of...   \n",
      "4                                       CCAFS,SLC-40   \n",
      "\n",
      "                                          Payload[c]  \\\n",
      "0               Dragon Spacecraft Qualification Unit   \n",
      "1  First flight of Falcon 9 v1.0.[11] Used a boil...   \n",
      "2                 Dragon demo flight C1(Dragon C101)   \n",
      "3  Maiden flight of Dragon capsule, consisting of...   \n",
      "4            Dragon demo flight C2+[18](Dragon C102)   \n",
      "\n",
      "                                        Payload mass  \\\n",
      "0                                                NaN   \n",
      "1  First flight of Falcon 9 v1.0.[11] Used a boil...   \n",
      "2                                                NaN   \n",
      "3  Maiden flight of Dragon capsule, consisting of...   \n",
      "4                              525 kg (1,157 lb)[19]   \n",
      "\n",
      "                                               Orbit  \\\n",
      "0                                                LEO   \n",
      "1  First flight of Falcon 9 v1.0.[11] Used a boil...   \n",
      "2                                          LEO (ISS)   \n",
      "3  Maiden flight of Dragon capsule, consisting of...   \n",
      "4                                          LEO (ISS)   \n",
      "\n",
      "                                            Customer  \\\n",
      "0                                             SpaceX   \n",
      "1  First flight of Falcon 9 v1.0.[11] Used a boil...   \n",
      "2  .mw-parser-output .plainlist ol,.mw-parser-out...   \n",
      "3  Maiden flight of Dragon capsule, consisting of...   \n",
      "4                                        NASA (COTS)   \n",
      "\n",
      "                                       Launchoutcome  \\\n",
      "0                                            Success   \n",
      "1  First flight of Falcon 9 v1.0.[11] Used a boil...   \n",
      "2                                         Success[9]   \n",
      "3  Maiden flight of Dragon capsule, consisting of...   \n",
      "4                                        Success[20]   \n",
      "\n",
      "                                      Boosterlanding  \n",
      "0                          Failure[9][10](parachute)  \n",
      "1  First flight of Falcon 9 v1.0.[11] Used a boil...  \n",
      "2                          Failure[9][14](parachute)  \n",
      "3  Maiden flight of Dragon capsule, consisting of...  \n",
      "4                                         No attempt  \n",
      "Table 3:\n",
      "   Flight No.                                 Date andtime (UTC)  \\\n",
      "0           8                           6 January 2014,22:06[41]   \n",
      "1           8  The Thai communication satellite was the secon...   \n",
      "2           9                            18 April 2014,19:25[21]   \n",
      "3           9  Following second-stage separation, SpaceX cond...   \n",
      "4          10                                 14 July 2014,15:15   \n",
      "\n",
      "                                  Version,Booster[b]  \\\n",
      "0                                            F9 v1.1   \n",
      "1  The Thai communication satellite was the secon...   \n",
      "2                                            F9 v1.1   \n",
      "3  Following second-stage separation, SpaceX cond...   \n",
      "4                                            F9 v1.1   \n",
      "\n",
      "                                         Launch site  \\\n",
      "0                                       CCAFS,SLC-40   \n",
      "1  The Thai communication satellite was the secon...   \n",
      "2                               Cape Canaveral,LC-40   \n",
      "3  Following second-stage separation, SpaceX cond...   \n",
      "4                               Cape Canaveral,LC-40   \n",
      "\n",
      "                                          Payload[c]  \\\n",
      "0                                      Thaicom 6[22]   \n",
      "1  The Thai communication satellite was the secon...   \n",
      "2                      SpaceX CRS-3[22](Dragon C105)   \n",
      "3  Following second-stage separation, SpaceX cond...   \n",
      "4                    Orbcomm-OG2-1(6 satellites)[22]   \n",
      "\n",
      "                                        Payload mass  \\\n",
      "0                                3,325 kg (7,330 lb)   \n",
      "1  The Thai communication satellite was the secon...   \n",
      "2                            2,296 kg (5,062 lb)[45]   \n",
      "3  Following second-stage separation, SpaceX cond...   \n",
      "4                                1,316 kg (2,901 lb)   \n",
      "\n",
      "                                               Orbit  \\\n",
      "0                                                GTO   \n",
      "1  The Thai communication satellite was the secon...   \n",
      "2                                          LEO (ISS)   \n",
      "3  Following second-stage separation, SpaceX cond...   \n",
      "4                                                LEO   \n",
      "\n",
      "                                            Customer  \\\n",
      "0                                            Thaicom   \n",
      "1  The Thai communication satellite was the secon...   \n",
      "2                                         NASA (CRS)   \n",
      "3  Following second-stage separation, SpaceX cond...   \n",
      "4                                            Orbcomm   \n",
      "\n",
      "                                       Launchoutcome  \\\n",
      "0                                        Success[42]   \n",
      "1  The Thai communication satellite was the secon...   \n",
      "2                                            Success   \n",
      "3  Following second-stage separation, SpaceX cond...   \n",
      "4                                        Success[51]   \n",
      "\n",
      "                                      Boosterlanding  \n",
      "0                                     No attempt[43]  \n",
      "1  The Thai communication satellite was the secon...  \n",
      "2                          Controlled(ocean) [d][46]  \n",
      "3  Following second-stage separation, SpaceX cond...  \n",
      "4                           Controlled(ocean)[d][46]  \n",
      "Table 4:\n",
      "   Flight No.                                 Date andtime (UTC)  \\\n",
      "0          14                          10 January 2015,09:47[67]   \n",
      "1          14  Following second-stage separation, SpaceX atte...   \n",
      "2          15                         11 February 2015,23:03[72]   \n",
      "3          15  First launch under USAF's OSP 3 launch contrac...   \n",
      "4          16                         2 March 2015,03:50[21][76]   \n",
      "\n",
      "                                  Version,Booster[b]  \\\n",
      "0                                    F9 v1.1B1012[8]   \n",
      "1  Following second-stage separation, SpaceX atte...   \n",
      "2                                    F9 v1.1B1013[8]   \n",
      "3  First launch under USAF's OSP 3 launch contrac...   \n",
      "4                                    F9 v1.1B1014[8]   \n",
      "\n",
      "                                         Launch site  \\\n",
      "0                               Cape Canaveral,LC-40   \n",
      "1  Following second-stage separation, SpaceX atte...   \n",
      "2                               Cape Canaveral,LC-40   \n",
      "3  First launch under USAF's OSP 3 launch contrac...   \n",
      "4                               Cape Canaveral,LC-40   \n",
      "\n",
      "                                          Payload[c]  \\\n",
      "0                      SpaceX CRS-5[68](Dragon C107)   \n",
      "1  Following second-stage separation, SpaceX atte...   \n",
      "2                                     DSCOVR[68][73]   \n",
      "3  First launch under USAF's OSP 3 launch contrac...   \n",
      "4                     ABS-3A Eutelsat 115 West B[68]   \n",
      "\n",
      "                                        Payload mass  \\\n",
      "0                            2,395 kg (5,280 lb)[69]   \n",
      "1  Following second-stage separation, SpaceX atte...   \n",
      "2                                  570 kg (1,260 lb)   \n",
      "3  First launch under USAF's OSP 3 launch contrac...   \n",
      "4                                4,159 kg (9,169 lb)   \n",
      "\n",
      "                                               Orbit  \\\n",
      "0                                          LEO (ISS)   \n",
      "1  Following second-stage separation, SpaceX atte...   \n",
      "2                        HEO(Sun–Earth L1 insertion)   \n",
      "3  First launch under USAF's OSP 3 launch contrac...   \n",
      "4                                                GTO   \n",
      "\n",
      "                                            Customer  \\\n",
      "0                                         NASA (CRS)   \n",
      "1  Following second-stage separation, SpaceX atte...   \n",
      "2                                     USAF NASA NOAA   \n",
      "3  First launch under USAF's OSP 3 launch contrac...   \n",
      "4                                       ABS Eutelsat   \n",
      "\n",
      "                                       Launchoutcome  \\\n",
      "0                                        Success[70]   \n",
      "1  Following second-stage separation, SpaceX atte...   \n",
      "2                                            Success   \n",
      "3  First launch under USAF's OSP 3 launch contrac...   \n",
      "4                                            Success   \n",
      "\n",
      "                                      Boosterlanding  \n",
      "0                               Failure (drone ship)  \n",
      "1  Following second-stage separation, SpaceX atte...  \n",
      "2                               Controlled(ocean)[d]  \n",
      "3  First launch under USAF's OSP 3 launch contrac...  \n",
      "4                                     No attempt[77]  \n",
      "Table 5:\n",
      "  Flight No.                                 Date andtime (UTC)  \\\n",
      "0         21                          17 January 2016,18:42[21]   \n",
      "1         21  First launch of NASA and NOAA joint science mi...   \n",
      "2         22                             4 March 2016,23:35[21]   \n",
      "3         22  Second launch of the enhanced Falcon 9 Full Th...   \n",
      "4         23                             8 April 2016,20:43[21]   \n",
      "\n",
      "                                  Version,Booster[b]  \\\n",
      "0                                    F9 v1.1B1017[8]   \n",
      "1  First launch of NASA and NOAA joint science mi...   \n",
      "2                                  F9 FTB1020.1[108]   \n",
      "3  Second launch of the enhanced Falcon 9 Full Th...   \n",
      "4                                  F9 FTB1021.1[115]   \n",
      "\n",
      "                                         Launch site  \\\n",
      "0                                        VAFB,SLC-4E   \n",
      "1  First launch of NASA and NOAA joint science mi...   \n",
      "2                               Cape Canaveral,LC-40   \n",
      "3  Second launch of the enhanced Falcon 9 Full Th...   \n",
      "4                               Cape Canaveral,LC-40   \n",
      "\n",
      "                                          Payload[c]  \\\n",
      "0                                   Jason-3[68][104]   \n",
      "1  First launch of NASA and NOAA joint science mi...   \n",
      "2                                SES-9[68][109][110]   \n",
      "3  Second launch of the enhanced Falcon 9 Full Th...   \n",
      "4               SpaceX CRS-8[68][110](Dragon C110.1)   \n",
      "\n",
      "                                        Payload mass  \\\n",
      "0                                  553 kg (1,219 lb)   \n",
      "1  First launch of NASA and NOAA joint science mi...   \n",
      "2                               5,271 kg (11,621 lb)   \n",
      "3  Second launch of the enhanced Falcon 9 Full Th...   \n",
      "4                           3,136 kg (6,914 lb)[116]   \n",
      "\n",
      "                                               Orbit  \\\n",
      "0                                                LEO   \n",
      "1  First launch of NASA and NOAA joint science mi...   \n",
      "2                                                GTO   \n",
      "3  Second launch of the enhanced Falcon 9 Full Th...   \n",
      "4                                          LEO (ISS)   \n",
      "\n",
      "                                            Customer  \\\n",
      "0                               NASA (LSP) NOAA CNES   \n",
      "1  First launch of NASA and NOAA joint science mi...   \n",
      "2                                                SES   \n",
      "3  Second launch of the enhanced Falcon 9 Full Th...   \n",
      "4                                         NASA (CRS)   \n",
      "\n",
      "                                       Launchoutcome  \\\n",
      "0                                            Success   \n",
      "1  First launch of NASA and NOAA joint science mi...   \n",
      "2                                            Success   \n",
      "3  Second launch of the enhanced Falcon 9 Full Th...   \n",
      "4                                       Success[117]   \n",
      "\n",
      "                                      Boosterlanding  \n",
      "0                                Failure(drone ship)  \n",
      "1  First launch of NASA and NOAA joint science mi...  \n",
      "2                                Failure(drone ship)  \n",
      "3  Second launch of the enhanced Falcon 9 Full Th...  \n",
      "4                           Success[118](drone ship)  \n",
      "Table 6:\n",
      "   Flight No.                                 Date andtime (UTC)  \\\n",
      "0          29                              14 January 2017,17:54   \n",
      "1          29  Return-to-flight mission after the loss of Amo...   \n",
      "2          30                             19 February 2017,14:39   \n",
      "3          30  First Falcon 9 flight from the historic LC-39A...   \n",
      "4          31                                16 March 2017,06:00   \n",
      "\n",
      "                                  Version,Booster[b]  \\\n",
      "0                                  F9 FTB1029.1[151]   \n",
      "1  Return-to-flight mission after the loss of Amo...   \n",
      "2                                    F9 FTB1031.1[8]   \n",
      "3  First Falcon 9 flight from the historic LC-39A...   \n",
      "4                                  F9 FTB1030.1[163]   \n",
      "\n",
      "                                         Launch site  \\\n",
      "0                                        VAFB,SLC-4E   \n",
      "1  Return-to-flight mission after the loss of Amo...   \n",
      "2                                         KSC,LC-39A   \n",
      "3  First Falcon 9 flight from the historic LC-39A...   \n",
      "4                                         KSC,LC-39A   \n",
      "\n",
      "                                          Payload[c]  \\\n",
      "0            Iridium NEXT-1(10 satellites)[152][153]   \n",
      "1  Return-to-flight mission after the loss of Amo...   \n",
      "2                  SpaceX CRS-10[141](Dragon C112.1)   \n",
      "3  First Falcon 9 flight from the historic LC-39A...   \n",
      "4                                        EchoStar 23   \n",
      "\n",
      "                                        Payload mass  \\\n",
      "0                               9,600 kg (21,200 lb)   \n",
      "1  Return-to-flight mission after the loss of Amo...   \n",
      "2                           2,490 kg (5,490 lb)[160]   \n",
      "3  First Falcon 9 flight from the historic LC-39A...   \n",
      "4                          5,600 kg (12,300 lb)[164]   \n",
      "\n",
      "                                               Orbit  \\\n",
      "0                                          Polar LEO   \n",
      "1  Return-to-flight mission after the loss of Amo...   \n",
      "2                                          LEO (ISS)   \n",
      "3  First Falcon 9 flight from the historic LC-39A...   \n",
      "4                                                GTO   \n",
      "\n",
      "                                            Customer  \\\n",
      "0                             Iridium Communications   \n",
      "1  Return-to-flight mission after the loss of Amo...   \n",
      "2                                         NASA (CRS)   \n",
      "3  First Falcon 9 flight from the historic LC-39A...   \n",
      "4                                           EchoStar   \n",
      "\n",
      "                                       Launchoutcome  \\\n",
      "0                                            Success   \n",
      "1  Return-to-flight mission after the loss of Amo...   \n",
      "2                                            Success   \n",
      "3  First Falcon 9 flight from the historic LC-39A...   \n",
      "4                                            Success   \n",
      "\n",
      "                                      Boosterlanding  \n",
      "0                           Success[154](drone ship)  \n",
      "1  Return-to-flight mission after the loss of Amo...  \n",
      "2                                Success(ground pad)  \n",
      "3  First Falcon 9 flight from the historic LC-39A...  \n",
      "4                                    No attempt[165]  \n",
      "Table 7:\n",
      "  Flight No.                                 Date andtime (UTC)  \\\n",
      "0         47                          8 January 2018,01:00[237]   \n",
      "1         47  The mission had been postponed by nearly two m...   \n",
      "2         48                         31 January 2018,21:25[244]   \n",
      "3         48  Reused booster from the classified NROL-76 mis...   \n",
      "4       FH 1                         6 February 2018,20:45[253]   \n",
      "\n",
      "                                  Version,Booster[b]  \\\n",
      "0                                  F9 B4B1043.1[238]   \n",
      "1  The mission had been postponed by nearly two m...   \n",
      "2                               F9 FT ♺ B1032.2[245]   \n",
      "3  Reused booster from the classified NROL-76 mis...   \n",
      "4                    Falcon HeavyB1033.1 (core)[129]   \n",
      "\n",
      "                                         Launch site  \\\n",
      "0                                       CCAFS,SLC-40   \n",
      "1  The mission had been postponed by nearly two m...   \n",
      "2                                       CCAFS,SLC-40   \n",
      "3  Reused booster from the classified NROL-76 mis...   \n",
      "4                                         KSC,LC-39A   \n",
      "\n",
      "                                          Payload[c]  \\\n",
      "0                                Zuma[238][239][240]   \n",
      "1  The mission had been postponed by nearly two m...   \n",
      "2                             GovSat-1 (SES-16)[246]   \n",
      "3  Reused booster from the classified NROL-76 mis...   \n",
      "4               Elon Musk's Tesla Roadster[254][255]   \n",
      "\n",
      "                                        Payload mass  \\\n",
      "0                                         Classified   \n",
      "1  The mission had been postponed by nearly two m...   \n",
      "2                           4,230 kg (9,330 lb)[247]   \n",
      "3  Reused booster from the classified NROL-76 mis...   \n",
      "4                          ~1,250 kg (2,760 lb)[256]   \n",
      "\n",
      "                                               Orbit  \\\n",
      "0                                                LEO   \n",
      "1  The mission had been postponed by nearly two m...   \n",
      "2                                                GTO   \n",
      "3  Reused booster from the classified NROL-76 mis...   \n",
      "4  Heliocentric0.99–1.67 AU[256](close to Mars tr...   \n",
      "\n",
      "                                            Customer  \\\n",
      "0                          Northrop Grumman [f][238]   \n",
      "1  The mission had been postponed by nearly two m...   \n",
      "2                                                SES   \n",
      "3  Reused booster from the classified NROL-76 mis...   \n",
      "4                                             SpaceX   \n",
      "\n",
      "                                       Launchoutcome  \\\n",
      "0                                       Success[241]   \n",
      "1  The mission had been postponed by nearly two m...   \n",
      "2                                       Success[248]   \n",
      "3  Reused booster from the classified NROL-76 mis...   \n",
      "4                                       Success[257]   \n",
      "\n",
      "                                      Boosterlanding  \n",
      "0                                Success(ground pad)  \n",
      "1  The mission had been postponed by nearly two m...  \n",
      "2                          Controlled(ocean)[d][248]  \n",
      "3  Reused booster from the classified NROL-76 mis...  \n",
      "4                           Failure[257](drone ship)  \n",
      "Table 8:\n",
      "  Flight No.                                 Date andtime (UTC)  \\\n",
      "0         67                         11 January 2019,15:31[396]   \n",
      "1         67  Final launch of the Iridium NEXT contract, lau...   \n",
      "2         68                        22 February 2019,01:45[398]   \n",
      "3         68  Nusantara Satu is a private Indonesian comsat ...   \n",
      "4         69                            2 March 2019,07:49[412]   \n",
      "\n",
      "                                  Version,Booster[b]  \\\n",
      "0                                F9 B5 ♺B1049.2[397]   \n",
      "1  Final launch of the Iridium NEXT contract, lau...   \n",
      "2                                F9 B5 ♺B1048.3[399]   \n",
      "3  Nusantara Satu is a private Indonesian comsat ...   \n",
      "4                             F9 B5B1051.1[268][413]   \n",
      "\n",
      "                                          Launchsite  \\\n",
      "0                                        VAFB,SLC-4E   \n",
      "1  Final launch of the Iridium NEXT contract, lau...   \n",
      "2                                       CCAFS,SLC-40   \n",
      "3  Nusantara Satu is a private Indonesian comsat ...   \n",
      "4                                         KSC,LC-39A   \n",
      "\n",
      "                                          Payload[c]  \\\n",
      "0                 Iridium NEXT-8(10 satellites)[152]   \n",
      "1  Final launch of the Iridium NEXT contract, lau...   \n",
      "2  Nusantara Satu (PSN-6)[400] Beresheet Moon lan...   \n",
      "3  Nusantara Satu is a private Indonesian comsat ...   \n",
      "4               Crew Dragon Demo-1[414](Dragon C201)   \n",
      "\n",
      "                                        Payload mass  \\\n",
      "0                               9,600 kg (21,200 lb)   \n",
      "1  Final launch of the Iridium NEXT contract, lau...   \n",
      "2                          4,850 kg (10,690 lb)[403]   \n",
      "3  Nusantara Satu is a private Indonesian comsat ...   \n",
      "4                      12,055 kg (26,577 lb)[415][h]   \n",
      "\n",
      "                                               Orbit  \\\n",
      "0                                          Polar LEO   \n",
      "1  Final launch of the Iridium NEXT contract, lau...   \n",
      "2                                                GTO   \n",
      "3  Nusantara Satu is a private Indonesian comsat ...   \n",
      "4                                          LEO (ISS)   \n",
      "\n",
      "                                            Customer  \\\n",
      "0                             Iridium Communications   \n",
      "1  Final launch of the Iridium NEXT contract, lau...   \n",
      "2               PSN SpaceIL / IAI Air Force Research   \n",
      "3  Nusantara Satu is a private Indonesian comsat ...   \n",
      "4                                         NASA (CCD)   \n",
      "\n",
      "                                       Launchoutcome  \\\n",
      "0                                            Success   \n",
      "1  Final launch of the Iridium NEXT contract, lau...   \n",
      "2                                            Success   \n",
      "3  Nusantara Satu is a private Indonesian comsat ...   \n",
      "4                                            Success   \n",
      "\n",
      "                                      Boosterlanding  \n",
      "0                                Success(drone ship)  \n",
      "1  Final launch of the Iridium NEXT contract, lau...  \n",
      "2                                Success(drone ship)  \n",
      "3  Nusantara Satu is a private Indonesian comsat ...  \n",
      "4                                Success(drone ship)  \n",
      "Table 9:\n",
      "   Flight No.                                 Date andtime (UTC)  \\\n",
      "0          78                       7 January 2020,02:19:21[492]   \n",
      "1          78  Third large batch and second operational fligh...   \n",
      "2          79                         19 January 2020,15:30[494]   \n",
      "3          79  An atmospheric test of the Dragon 2 abort syst...   \n",
      "4          80                         29 January 2020,14:07[501]   \n",
      "\n",
      "                                  Version,Booster[b]  \\\n",
      "0                                    F9 B5 ♺ B1049.4   \n",
      "1  Third large batch and second operational fligh...   \n",
      "2                                    F9 B5 ♺ B1046.4   \n",
      "3  An atmospheric test of the Dragon 2 abort syst...   \n",
      "4                                     F9 B5 ♺B1051.3   \n",
      "\n",
      "                                          Launchsite  \\\n",
      "0                                       CCAFS,SLC-40   \n",
      "1  Third large batch and second operational fligh...   \n",
      "2                                         KSC,LC-39A   \n",
      "3  An atmospheric test of the Dragon 2 abort syst...   \n",
      "4                                       CCAFS,SLC-40   \n",
      "\n",
      "                                          Payload[c]  \\\n",
      "0                    Starlink 2 v1.0 (60 satellites)   \n",
      "1  Third large batch and second operational fligh...   \n",
      "2  Crew Dragon in-flight abort test[495](Dragon C...   \n",
      "3  An atmospheric test of the Dragon 2 abort syst...   \n",
      "4                    Starlink 3 v1.0 (60 satellites)   \n",
      "\n",
      "                                        Payload mass  \\\n",
      "0                           15,600 kg (34,400 lb)[5]   \n",
      "1  Third large batch and second operational fligh...   \n",
      "2                              12,050 kg (26,570 lb)   \n",
      "3  An atmospheric test of the Dragon 2 abort syst...   \n",
      "4                           15,600 kg (34,400 lb)[5]   \n",
      "\n",
      "                                               Orbit  \\\n",
      "0                                                LEO   \n",
      "1  Third large batch and second operational fligh...   \n",
      "2                                   Sub-orbital[496]   \n",
      "3  An atmospheric test of the Dragon 2 abort syst...   \n",
      "4                                                LEO   \n",
      "\n",
      "                                            Customer  \\\n",
      "0                                             SpaceX   \n",
      "1  Third large batch and second operational fligh...   \n",
      "2                                    NASA (CTS)[497]   \n",
      "3  An atmospheric test of the Dragon 2 abort syst...   \n",
      "4                                             SpaceX   \n",
      "\n",
      "                                       Launchoutcome  \\\n",
      "0                                            Success   \n",
      "1  Third large batch and second operational fligh...   \n",
      "2                                            Success   \n",
      "3  An atmospheric test of the Dragon 2 abort syst...   \n",
      "4                                            Success   \n",
      "\n",
      "                                      Boosterlanding  \n",
      "0                                Success(drone ship)  \n",
      "1  Third large batch and second operational fligh...  \n",
      "2                                         No attempt  \n",
      "3  An atmospheric test of the Dragon 2 abort syst...  \n",
      "4                                Success(drone ship)  \n",
      "Table 10:\n",
      "   Flight No.                                 Date andtime (UTC)  \\\n",
      "0         104                           8 January 202102:15[604]   \n",
      "1         104  A 3,500 kg (7,700 lb) satellite intended to be...   \n",
      "2         105                          20 January 202113:02[608]   \n",
      "3         105  The first booster to successfully launch and l...   \n",
      "4         106                          24 January 202115:00[612]   \n",
      "\n",
      "                                  Version,Booster[b]  \\\n",
      "0                                     F9 B5 ♺B1060.4   \n",
      "1  A 3,500 kg (7,700 lb) satellite intended to be...   \n",
      "2                                F9 B5 ♺B1051.8[609]   \n",
      "3  The first booster to successfully launch and l...   \n",
      "4                                F9 B5 ♺B1058.5[613]   \n",
      "\n",
      "                                          Launchsite  \\\n",
      "0                                       CCSFS,SLC-40   \n",
      "1  A 3,500 kg (7,700 lb) satellite intended to be...   \n",
      "2                                         KSC,LC-39A   \n",
      "3  The first booster to successfully launch and l...   \n",
      "4                                       CCSFS,SLC-40   \n",
      "\n",
      "                                          Payload[c]  \\\n",
      "0                                    Türksat 5A[605]   \n",
      "1  A 3,500 kg (7,700 lb) satellite intended to be...   \n",
      "2                   Starlink 16 v1.0 (60 satellites)   \n",
      "3  The first booster to successfully launch and l...   \n",
      "4             Transporter-1 (143 smallsat rideshare)   \n",
      "\n",
      "                                        Payload mass  \\\n",
      "0                                3,500 kg (7,700 lb)   \n",
      "1  A 3,500 kg (7,700 lb) satellite intended to be...   \n",
      "2                              15,600 kg (34,400 lb)   \n",
      "3  The first booster to successfully launch and l...   \n",
      "4                              ~5,000 kg (11,000 lb)   \n",
      "\n",
      "                                               Orbit  \\\n",
      "0                                                GTO   \n",
      "1  A 3,500 kg (7,700 lb) satellite intended to be...   \n",
      "2                                                LEO   \n",
      "3  The first booster to successfully launch and l...   \n",
      "4                                                SSO   \n",
      "\n",
      "                                            Customer  \\\n",
      "0                                            Türksat   \n",
      "1  A 3,500 kg (7,700 lb) satellite intended to be...   \n",
      "2                                             SpaceX   \n",
      "3  The first booster to successfully launch and l...   \n",
      "4                                            Various   \n",
      "\n",
      "                                       Launchoutcome  \\\n",
      "0                                            Success   \n",
      "1  A 3,500 kg (7,700 lb) satellite intended to be...   \n",
      "2                                            Success   \n",
      "3  The first booster to successfully launch and l...   \n",
      "4                                            Success   \n",
      "\n",
      "                                      Boosterlanding  \n",
      "0                                Success(drone ship)  \n",
      "1  A 3,500 kg (7,700 lb) satellite intended to be...  \n",
      "2                                Success(drone ship)  \n",
      "3  The first booster to successfully launch and l...  \n",
      "4                                Success(drone ship)  \n",
      "Table 11:\n",
      "            Date and time (UTC)  \\\n",
      "0  17 June 202116:09-16:24[676]   \n",
      "1  17 June 202116:09-16:24[676]   \n",
      "2             24 June 2021[678]   \n",
      "3             24 June 2021[678]   \n",
      "4                July 2021[678]   \n",
      "\n",
      "                                  Version,Booster[b]  \\\n",
      "0                               F9 B5 ♺ B1062.2[681]   \n",
      "1  Manufacturing contract awarded February 2013.[...   \n",
      "2                                    F9 B5 ♺ B1060.8   \n",
      "3  Expected to launch are Polar Vigilence (4 sats...   \n",
      "4                              F9 B5 ♺ B1049.10[687]   \n",
      "\n",
      "                                         Launch site  \\\n",
      "0                                       CCSFS,SLC-40   \n",
      "1  Manufacturing contract awarded February 2013.[...   \n",
      "2                                       CCSFS,SLC-40   \n",
      "3  Expected to launch are Polar Vigilence (4 sats...   \n",
      "4                                        VSFB,SLC-4E   \n",
      "\n",
      "                                          Payload[c]  \\\n",
      "0              GPS III-05 (Neil Armstrong)[541][388]   \n",
      "1  Manufacturing contract awarded February 2013.[...   \n",
      "2                   Transporter-2 SmallSat Rideshare   \n",
      "3  Expected to launch are Polar Vigilence (4 sats...   \n",
      "4                                           Starlink   \n",
      "\n",
      "                                               Orbit  \\\n",
      "0                                                MEO   \n",
      "1  Manufacturing contract awarded February 2013.[...   \n",
      "2                                                SSO   \n",
      "3  Expected to launch are Polar Vigilence (4 sats...   \n",
      "4                                          Polar LEO   \n",
      "\n",
      "                                            Customer  \n",
      "0                                          USSF[530]  \n",
      "1  Manufacturing contract awarded February 2013.[...  \n",
      "2                                            Various  \n",
      "3  Expected to launch are Polar Vigilence (4 sats...  \n",
      "4                                             SpaceX  \n",
      "Table 12:\n",
      "  Date and time (UTC)                                 Version,Booster[b]  \\\n",
      "0   January 2022[722]                                              F9 B5   \n",
      "1   January 2022[722]  Announced in March 2020, the flight will be th...   \n",
      "2     4 February 2022                                            F9 B5 ♺   \n",
      "3     4 February 2022  NASA has awarded six missions with Crew Dragon...   \n",
      "4     March 2022[725]                                              F9 B5   \n",
      "\n",
      "                                         Launch site  \\\n",
      "0                                         KSC,LC-39A   \n",
      "1  Announced in March 2020, the flight will be th...   \n",
      "2                                         KSC,LC-39A   \n",
      "3  NASA has awarded six missions with Crew Dragon...   \n",
      "4                                CC,LC-39A or SLC-40   \n",
      "\n",
      "                                          Payload[c]  \\\n",
      "0              AX-1(Crew Dragon C207.3 Resilience ♺)   \n",
      "1  Announced in March 2020, the flight will be th...   \n",
      "2                                             Crew-4   \n",
      "3  NASA has awarded six missions with Crew Dragon...   \n",
      "4                              O3b mPOWER -4, -5, -6   \n",
      "\n",
      "                                               Orbit  \\\n",
      "0                                          LEO (ISS)   \n",
      "1  Announced in March 2020, the flight will be th...   \n",
      "2                                          LEO (ISS)   \n",
      "3  NASA has awarded six missions with Crew Dragon...   \n",
      "4                                                MEO   \n",
      "\n",
      "                                            Customer  \n",
      "0                                        Axiom Space  \n",
      "1  Announced in March 2020, the flight will be th...  \n",
      "2                                    NASA (CTS)[497]  \n",
      "3  NASA has awarded six missions with Crew Dragon...  \n",
      "4                                                SES  \n",
      "Table 13:\n",
      "    Date and time (UTC)                                 Version,Booster[b]  \\\n",
      "0  10 January 2023[734]                                              F9 B5   \n",
      "1  10 January 2023[734]  Three more CRS-2 missions for Dragon 2 coverin...   \n",
      "2  1 February 2023[734]                                            F9 B5 ♺   \n",
      "3  1 February 2023[734]  Last USCV launches out of NASA award of six Cr...   \n",
      "4  March 2023[759][778]                                              F9 B5   \n",
      "\n",
      "                                         Launch site  \\\n",
      "0                                         KSC,LC-39A   \n",
      "1  Three more CRS-2 missions for Dragon 2 coverin...   \n",
      "2                                         KSC,LC-39A   \n",
      "3  Last USCV launches out of NASA award of six Cr...   \n",
      "4                                CC,LC-39A or SLC-40   \n",
      "\n",
      "                                          Payload[c]  \\\n",
      "0                                      SpaceX CRS-27   \n",
      "1  Three more CRS-2 missions for Dragon 2 coverin...   \n",
      "2                                             Crew-6   \n",
      "3  Last USCV launches out of NASA award of six Cr...   \n",
      "4  Hakuto-R Moon lander (secondary payload)[758][...   \n",
      "\n",
      "                                               Orbit  \\\n",
      "0                                          LEO (ISS)   \n",
      "1  Three more CRS-2 missions for Dragon 2 coverin...   \n",
      "2                                          LEO (ISS)   \n",
      "3  Last USCV launches out of NASA award of six Cr...   \n",
      "4                                                TLI   \n",
      "\n",
      "                                            Customer  \n",
      "0                                         NASA (CRS)  \n",
      "1  Three more CRS-2 missions for Dragon 2 coverin...  \n",
      "2                                    NASA (CTS)[497]  \n",
      "3  Last USCV launches out of NASA award of six Cr...  \n",
      "4                                             ispace  \n",
      "Table 14:\n",
      "  Date and time (UTC)                                 Version,Booster[b]  \\\n",
      "0      2024–2027[746]                                                TBD   \n",
      "1      2024–2027[746]  Launches part of Phase 2 US Air Force contract...   \n",
      "2           June 2024                                              F9 B5   \n",
      "3           June 2024  In February 2021, NASA announced a $99m contra...   \n",
      "4        Q4 2024[798]                                       Falcon Heavy   \n",
      "\n",
      "                                         Launch site  \\\n",
      "0                                                TBD   \n",
      "1  Launches part of Phase 2 US Air Force contract...   \n",
      "2                                        VSFB,SLC-4E   \n",
      "3  In February 2021, NASA announced a $99m contra...   \n",
      "4                                         KSC,LC-39A   \n",
      "\n",
      "                                          Payload[c]  \\\n",
      "0                             about 12 more launches   \n",
      "1  Launches part of Phase 2 US Air Force contract...   \n",
      "2                                            SPHEREx   \n",
      "3  In February 2021, NASA announced a $99m contra...   \n",
      "4  Power and Propulsion Element (PPE)Habitation a...   \n",
      "\n",
      "                                               Orbit  \\\n",
      "0                                                TBD   \n",
      "1  Launches part of Phase 2 US Air Force contract...   \n",
      "2                                           SSO[796]   \n",
      "3  In February 2021, NASA announced a $99m contra...   \n",
      "4                                                TLI   \n",
      "\n",
      "                                            Customer  \n",
      "0                                               USSF  \n",
      "1  Launches part of Phase 2 US Air Force contract...  \n",
      "2                                               NASA  \n",
      "3  In February 2021, NASA announced a $99m contra...  \n",
      "4                                     NASA (Artemis)  \n",
      "Table 15:\n",
      "  .mw-parser-output .navbar{display:inline;font-size:88%;font-weight:normal}.mw-parser-output .navbar-collapse{float:left;text-align:left}.mw-parser-output .navbar-boxtext{word-spacing:0}.mw-parser-output .navbar ul{display:inline-block;white-space:nowrap;line-height:inherit}.mw-parser-output .navbar-brackets::before{margin-right:-0.125em;content:\"[ \"}.mw-parser-output .navbar-brackets::after{margin-left:-0.125em;content:\" ]\"}.mw-parser-output .navbar li{word-spacing:-0.125em}.mw-parser-output .navbar a>span,.mw-parser-output .navbar a>abbr{text-decoration:inherit}.mw-parser-output .navbar-mini abbr{font-variant:small-caps;border-bottom:none;text-decoration:none;cursor:inherit}.mw-parser-output .navbar-ct-full{font-size:114%;margin:0 7em}.mw-parser-output .navbar-ct-mini{font-size:114%;margin:0 4em}html.skin-theme-clientpref-night .mw-parser-output .navbar li a abbr{color:var(--color-base)!important}@media(prefers-color-scheme:dark){html.skin-theme-clientpref-os .mw-parser-output .navbar li a abbr{color:var(--color-base)!important}}@media print{.mw-parser-output .navbar{display:none!important}}vteSpaceX missions and payloads  \\\n",
      "0                                    Launch vehicles                                                                                                                                                                                                                                                                                                                                                                                                                                                                                                                                                                                                                                                                                                                                                                                                                                                                                                                                                                                                                                                                                                                                     \n",
      "1                                  Falcon 1 missions                                                                                                                                                                                                                                                                                                                                                                                                                                                                                                                                                                                                                                                                                                                                                                                                                                                                                                                                                                                                                                                                                                                                     \n",
      "2                                  Falcon 9 missions                                                                                                                                                                                                                                                                                                                                                                                                                                                                                                                                                                                                                                                                                                                                                                                                                                                                                                                                                                                                                                                                                                                                     \n",
      "3                                     Demonstrations                                                                                                                                                                                                                                                                                                                                                                                                                                                                                                                                                                                                                                                                                                                                                                                                                                                                                                                                                                                                                                                                                                                                     \n",
      "4                                      ISS logistics                                                                                                                                                                                                                                                                                                                                                                                                                                                                                                                                                                                                                                                                                                                                                                                                                                                                                                                                                                                                                                                                                                                                     \n",
      "\n",
      "  .mw-parser-output .navbar{display:inline;font-size:88%;font-weight:normal}.mw-parser-output .navbar-collapse{float:left;text-align:left}.mw-parser-output .navbar-boxtext{word-spacing:0}.mw-parser-output .navbar ul{display:inline-block;white-space:nowrap;line-height:inherit}.mw-parser-output .navbar-brackets::before{margin-right:-0.125em;content:\"[ \"}.mw-parser-output .navbar-brackets::after{margin-left:-0.125em;content:\" ]\"}.mw-parser-output .navbar li{word-spacing:-0.125em}.mw-parser-output .navbar a>span,.mw-parser-output .navbar a>abbr{text-decoration:inherit}.mw-parser-output .navbar-mini abbr{font-variant:small-caps;border-bottom:none;text-decoration:none;cursor:inherit}.mw-parser-output .navbar-ct-full{font-size:114%;margin:0 7em}.mw-parser-output .navbar-ct-mini{font-size:114%;margin:0 4em}html.skin-theme-clientpref-night .mw-parser-output .navbar li a abbr{color:var(--color-base)!important}@media(prefers-color-scheme:dark){html.skin-theme-clientpref-os .mw-parser-output .navbar li a abbr{color:var(--color-base)!important}}@media print{.mw-parser-output .navbar{display:none!important}}vteSpaceX missions and payloads.1  \n",
      "0  Falcon 1 Falcon 9 v1.0 v1.1 Full Thrust Block ...                                                                                                                                                                                                                                                                                                                                                                                                                                                                                                                                                                                                                                                                                                                                                                                                                                                                                                                                                                                                                                                                                                                                      \n",
      "1  Flight 1† (FalconSAT-2) Flight 2† Flight 3† Tr...                                                                                                                                                                                                                                                                                                                                                                                                                                                                                                                                                                                                                                                                                                                                                                                                                                                                                                                                                                                                                                                                                                                                      \n",
      "2  Demonstrations Dragon 1 Qualification Demo-1 D...                                                                                                                                                                                                                                                                                                                                                                                                                                                                                                                                                                                                                                                                                                                                                                                                                                                                                                                                                                                                                                                                                                                                      \n",
      "3  Dragon 1 Qualification Demo-1 Demo-2 Crew Drag...                                                                                                                                                                                                                                                                                                                                                                                                                                                                                                                                                                                                                                                                                                                                                                                                                                                                                                                                                                                                                                                                                                                                      \n",
      "4  CRS-1 CRS-2 CRS-3 CRS-4 CRS-5 CRS-6 CRS-7† CRS...                                                                                                                                                                                                                                                                                                                                                                                                                                                                                                                                                                                                                                                                                                                                                                                                                                                                                                                                                                                                                                                                                                                                      \n",
      "Table 16:\n",
      "                      0                                                  1\n",
      "0        Demonstrations  Dragon 1 Qualification Demo-1 Demo-2 Crew Drag...\n",
      "1         ISS logistics  CRS-1 CRS-2 CRS-3 CRS-4 CRS-5 CRS-6 CRS-7† CRS...\n",
      "2                Crewed  Demo-2 Crew-1 Crew-2 Inspiration4 Crew-3 Axiom...\n",
      "3  Commercialsatellites  SES-8 Thaicom 6 Orbcomm OG2 × 6 AsiaSat 8 Asia...\n",
      "4  Scientificsatellites  CASSIOPE DSCOVR Jason-3 Formosat-5 TESS GRACE-...\n",
      "Table 17:\n",
      "             0                                               1\n",
      "0  Transporter  2021 1 2 2022 3 4 5 2023 6 7 8 9 2024 10 11 12\n",
      "1    Bandwagon                                        2024 1 2\n",
      "Table 18:\n",
      "                      0                                                  1\n",
      "0        Demonstrations  Suborbital flight tests Orbital flight tests I...\n",
      "1                Crewed  Polaris Program third flight two Starship HLS ...\n",
      "2  CommercialSatellites                                        Superbird-9\n",
      "Table 19:\n",
      "         vteSpaceX                                        vteSpaceX.1  \\\n",
      "0          History                                            History   \n",
      "1  Launch vehicles  Current Falcon 9 Block 5 boosters Falcon Heavy...   \n",
      "2          Current             Falcon 9 Block 5 boosters Falcon Heavy   \n",
      "3   In development  Starship Super Heavy booster upper stage lunar...   \n",
      "4          Retired  Falcon 1 Falcon 9 v1.0 v1.1 \"Full Thrust\" v1.2...   \n",
      "\n",
      "  vteSpaceX.2  \n",
      "0     History  \n",
      "1         NaN  \n",
      "2         NaN  \n",
      "3         NaN  \n",
      "4         NaN  \n",
      "Table 20:\n",
      "                0                                                  1\n",
      "0         Current             Falcon 9 Block 5 boosters Falcon Heavy\n",
      "1  In development  Starship Super Heavy booster upper stage lunar...\n",
      "2         Retired  Falcon 1 Falcon 9 v1.0 v1.1 \"Full Thrust\" v1.2...\n",
      "3       Cancelled    Falcon 1e* Falcon 5* Falcon 9 Air* BFR and ITS*\n",
      "Table 21:\n",
      "        0                                                  1\n",
      "0   Cargo  Dragon 1 Cargo Dragon 2 Cargo Dragon XL* Stars...\n",
      "1  Crewed  Dragon 2 Crew C206 Endeavour C207 Resilience C...\n",
      "Table 22:\n",
      "         0                                                  1\n",
      "0  Current  Starship prototypes first stage booster upper ...\n",
      "1  Retired         Grasshopper F9R Dev1† DragonFly Starhopper\n",
      "2  Unflown                                          F9R Dev2*\n",
      "Table 23:\n",
      "             0                                                  1\n",
      "0      Orbital  CCSFS SLC-40 KSC LC-39A VSFB SLC-4E VSFB SLC-6...\n",
      "1  Atmospheric           McGregor New Mexico† Starbase Boca Chica\n",
      "Table 24:\n",
      "  vteSpaceflight lists and timelines  \\\n",
      "0            Timeline of spaceflight   \n",
      "1                            General   \n",
      "2                  Human spaceflight   \n",
      "3                            General   \n",
      "4                             Salyut   \n",
      "\n",
      "                vteSpaceflight lists and timelines.1  \n",
      "0                            Timeline of spaceflight  \n",
      "1  Space exploration outline timeline Spacecraft ...  \n",
      "2  General Crewed spacecraft timeline by program ...  \n",
      "3  Crewed spacecraft timeline by program Spacefli...  \n",
      "4  Expeditions Spaceflights crewed uncrewed Space...  \n",
      "Table 25:\n",
      "          0                                                  1\n",
      "0   General  Crewed spacecraft timeline by program Spacefli...\n",
      "1    Salyut  Expeditions Spaceflights crewed uncrewed Space...\n",
      "2       Mir  Expeditions ESA Spaceflights crewed uncrewed S...\n",
      "3       ISS  Expeditions ESA Visiting Spaceflights crewed u...\n",
      "4  Tiangong         Expeditions Crewed Spaceflights Spacewalks\n",
      "Int64Index([0, 1], dtype='int64')\n",
      "Number of missing values in the landing pad column: Landing Pad column does not exist in the selected table.\n"
     ]
    }
   ],
   "source": [
    "import requests\n",
    "import pandas as pd\n",
    "from bs4 import BeautifulSoup\n",
    "\n",
    "# Step 1: Perform a GET request to the Wikipedia URL\n",
    "url = 'https://en.wikipedia.org/w/index.php?title=List_of_Falcon_9_and_Falcon_Heavy_launches&oldid=1027686922'\n",
    "response = requests.get(url)\n",
    "\n",
    "# Step 2: Parse the HTML content using BeautifulSoup\n",
    "soup = BeautifulSoup(response.text, 'html.parser')\n",
    "\n",
    "# Step 3: Extract relevant tables or information (you can customize this part based on what data you need)\n",
    "# Extract all tables on the page\n",
    "tables = pd.read_html(str(soup))\n",
    "\n",
    "# Step 4: Check which table contains the landing pad information\n",
    "# You might want to print the first few rows of each table to identify the correct one\n",
    "for i, table in enumerate(tables):\n",
    "    print(f\"Table {i}:\")\n",
    "    print(table.head())  # Print the first few rows of each table\n",
    "\n",
    "# Assuming the landing pad info is in the first table (adjust index as necessary)\n",
    "landing_pad_table = tables[0]  # Change this index based on your findings\n",
    "\n",
    "# Step 5: Check the actual column names\n",
    "print(landing_pad_table.columns)\n",
    "\n",
    "# Step 6: Count missing values in the relevant landing pad column\n",
    "# Adjust the column name according to what you see in the column names printout\n",
    "if 'Landing Pad' in landing_pad_table.columns:  # Adjust the column name as necessary\n",
    "    missing_values_count = landing_pad_table['Landing Pad'].isnull().sum()\n",
    "else:\n",
    "    missing_values_count = 'Landing Pad column does not exist in the selected table.'\n",
    "\n",
    "print(f\"Number of missing values in the landing pad column: {missing_values_count}\")\n"
   ]
  },
  {
   "cell_type": "code",
   "execution_count": null,
   "metadata": {},
   "outputs": [],
   "source": []
  }
 ],
 "metadata": {
  "kernelspec": {
   "display_name": "Python",
   "language": "python",
   "name": "conda-env-python-py"
  },
  "language_info": {
   "codemirror_mode": {
    "name": "ipython",
    "version": 3
   },
   "file_extension": ".py",
   "mimetype": "text/x-python",
   "name": "python",
   "nbconvert_exporter": "python",
   "pygments_lexer": "ipython3",
   "version": "3.7.12"
  },
  "prev_pub_hash": "64f1b0aac408997185c47caba18730e0028b75e7934a0e5bf0ae73c5cb7ba677"
 },
 "nbformat": 4,
 "nbformat_minor": 4
}
